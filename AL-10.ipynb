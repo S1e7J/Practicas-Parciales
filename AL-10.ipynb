{
 "cells": [
  {
   "cell_type": "markdown",
   "metadata": {},
   "source": [
    "# Librerías"
   ]
  },
  {
   "cell_type": "code",
   "execution_count": 2,
   "metadata": {},
   "outputs": [],
   "source": [
    "import numpy as np\n",
    "import sympy as sp"
   ]
  },
  {
   "cell_type": "markdown",
   "metadata": {},
   "source": [
    "# Def. Variables"
   ]
  },
  {
   "cell_type": "code",
   "execution_count": 3,
   "metadata": {},
   "outputs": [],
   "source": [
    "x = sp.Symbol(\"x\", real=True)\n",
    "y = sp.Symbol(\"y\", real=True)\n",
    "\n",
    "def T(x,y,p):\n",
    "    return p[0] + p[1]*x + p[2]*y + p[3]*x*y"
   ]
  },
  {
   "cell_type": "markdown",
   "metadata": {},
   "source": [
    "# a) Función bilineal\n",
    "- - -\n",
    "- Creación de la matriz\n",
    "- Función"
   ]
  },
  {
   "cell_type": "code",
   "execution_count": 4,
   "metadata": {},
   "outputs": [],
   "source": [
    "a_00 = sp.Symbol(\"a_00\", real=True)\n",
    "a_01 = sp.Symbol(\"a_01\", real=True)\n",
    "a_10 = sp.Symbol(\"a_10\", real=True)\n",
    "a_11 = sp.Symbol(\"a_11\", real=True)\n",
    "\n",
    "A = np.array([[a_00,a_01],[a_10,a_11]])"
   ]
  },
  {
   "cell_type": "code",
   "execution_count": 5,
   "metadata": {},
   "outputs": [
    {
     "data": {
      "text/latex": [
       "$\\displaystyle a_{00} + a_{01} y + a_{10} x + a_{11} x y$"
      ],
      "text/plain": [
       "a_00 + a_01*y + a_10*x + a_11*x*y"
      ]
     },
     "execution_count": 5,
     "metadata": {},
     "output_type": "execute_result"
    }
   ],
   "source": [
    "T_ = 0\n",
    "for i in range(2):\n",
    "    for j in range(2):\n",
    "        T_ += A[i][j]*(x**i)*(y**j)\n",
    "T_"
   ]
  },
  {
   "cell_type": "markdown",
   "metadata": {},
   "source": [
    "# b) Vértices"
   ]
  },
  {
   "cell_type": "code",
   "execution_count": 6,
   "metadata": {},
   "outputs": [
    {
     "data": {
      "text/plain": [
       "array([[ 1.,  1.],\n",
       "       [-1.,  1.],\n",
       "       [-1., -1.],\n",
       "       [ 1., -1.]])"
      ]
     },
     "execution_count": 6,
     "metadata": {},
     "output_type": "execute_result"
    }
   ],
   "source": [
    "Pos = np.zeros((4,2))\n",
    "Pos[0][0]=1;Pos[0][1]=1;Pos[1][0]=-1;Pos[1][1]=1;Pos[2][0]=-1;Pos[2][1]=-1;Pos[3][0]=1;Pos[3][1]=-1\n",
    "Pos"
   ]
  },
  {
   "cell_type": "markdown",
   "metadata": {},
   "source": [
    "# c) Sistema de ecuaciones"
   ]
  },
  {
   "cell_type": "code",
   "execution_count": 35,
   "metadata": {},
   "outputs": [],
   "source": [
    "coeff = np.array([[1,1,1,1],[1,-1,1,-1],[1,-1,-1,1],[1,1,-1,-1]])"
   ]
  },
  {
   "cell_type": "code",
   "execution_count": 36,
   "metadata": {},
   "outputs": [
    {
     "data": {
      "text/plain": [
       "array([ 0.95, -0.3 ,  0.55, -0.2 ])"
      ]
     },
     "execution_count": 36,
     "metadata": {},
     "output_type": "execute_result"
    }
   ],
   "source": [
    "\"\"\"\n",
    "Sol = np.array([1,2,0.5,0.3])\n",
    "x = np.linalg.solve(coeff, Sol)\n",
    "x"
   ]
  },
  {
   "cell_type": "markdown",
   "metadata": {},
   "source": [
    "# d) Verificación"
   ]
  },
  {
   "cell_type": "code",
   "execution_count": 39,
   "metadata": {},
   "outputs": [
    {
     "data": {
      "text/plain": [
       "(1.0, 2.0, 0.49999999999999994, 0.2999999999999999)"
      ]
     },
     "execution_count": 39,
     "metadata": {},
     "output_type": "execute_result"
    }
   ],
   "source": [
    "T_1 = T(Pos[0][0],Pos[0][1],x)\n",
    "T_2 = T(Pos[1][0],Pos[1][1],x)\n",
    "T_3 = T(Pos[2][0],Pos[2][1],x)\n",
    "T_4 = T(Pos[3][0],Pos[3][1],x)\n",
    "\n",
    "T_1,T_2,T_3,T_4"
   ]
  },
  {
   "cell_type": "markdown",
   "metadata": {},
   "source": [
    "# f) Ejercicio práctico"
   ]
  },
  {
   "cell_type": "code",
   "execution_count": 40,
   "metadata": {},
   "outputs": [
    {
     "data": {
      "text/plain": [
       "1.225"
      ]
     },
     "execution_count": 40,
     "metadata": {},
     "output_type": "execute_result"
    }
   ],
   "source": [
    "T(0,0.5,x)"
   ]
  }
 ],
 "metadata": {
  "kernelspec": {
   "display_name": "Python 3.7.3 64-bit",
   "language": "python",
   "name": "python3"
  },
  "language_info": {
   "codemirror_mode": {
    "name": "ipython",
    "version": 3
   },
   "file_extension": ".py",
   "mimetype": "text/x-python",
   "name": "python",
   "nbconvert_exporter": "python",
   "pygments_lexer": "ipython3",
   "version": "3.7.3"
  },
  "orig_nbformat": 4,
  "vscode": {
   "interpreter": {
    "hash": "31f2aee4e71d21fbe5cf8b01ff0e069b9275f58929596ceb00d14d90e3e16cd6"
   }
  }
 },
 "nbformat": 4,
 "nbformat_minor": 2
}
